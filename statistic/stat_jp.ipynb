{
 "cells": [
  {
   "cell_type": "code",
   "execution_count": 1,
   "metadata": {
    "ExecuteTime": {
     "end_time": "2023-05-17T14:35:15.890929Z",
     "start_time": "2023-05-17T14:34:54.898651700Z"
    }
   },
   "outputs": [],
   "source": [
    "from catboost import CatBoostClassifier, CatBoostRegressor, FeaturesData\n",
    "from sklearn.model_selection import train_test_split\n",
    "from database.async_db import asyncHandler as db\n",
    "from navec import Navec\n",
    "import numpy as np"
   ]
  },
  {
   "cell_type": "markdown",
   "metadata": {},
   "source": [
    "# 1. Sentence embedding"
   ]
  },
  {
   "cell_type": "code",
   "execution_count": 2,
   "metadata": {
    "ExecuteTime": {
     "end_time": "2023-05-03T22:19:19.499282400Z",
     "start_time": "2023-05-03T22:19:19.485287900Z"
    }
   },
   "outputs": [],
   "source": [
    "async def get_vector_data(id_t, id_f):\n",
    "    t = [await db.get_vector_by_p_id(i) for i in id_t]\n",
    "    f = [await db.get_vector_by_p_id(i) for i in id_f]\n",
    "    return t + f, [1] * len(t) + [0] * len(f)"
   ]
  },
  {
   "cell_type": "code",
   "execution_count": 3,
   "metadata": {
    "ExecuteTime": {
     "end_time": "2023-05-03T22:19:35.363276600Z",
     "start_time": "2023-05-03T22:19:19.499282400Z"
    }
   },
   "outputs": [
    {
     "data": {
      "application/vnd.jupyter.widget-view+json": {
       "model_id": "1bb36884b95d436ca6f870053036dcf3",
       "version_major": 2,
       "version_minor": 0
      },
      "text/plain": [
       "MetricVisualizer(layout=Layout(align_self='stretch', height='500px'))"
      ]
     },
     "metadata": {},
     "output_type": "display_data"
    },
    {
     "data": {
      "text/plain": [
       "<catboost.core.CatBoostClassifier at 0x29a0b41d4e0>"
      ]
     },
     "execution_count": 3,
     "metadata": {},
     "output_type": "execute_result"
    }
   ],
   "source": [
    "id_t = [48,115,170,873,2919,1364,380,8986,614,2391,3812,10810]\n",
    "\n",
    "id_f = [9007,8915,11427,385,5451,9366,5079,3816,3955,2424,3593,49,174,2949,893,120,3843,1382]\n",
    "\n",
    "x, y = await get_vector_data(id_t, id_f)\n",
    "X_train, X_test, y_train, y_test = train_test_split(x, y, test_size=0.2)\n",
    "\n",
    "cat = CatBoostClassifier(\n",
    "    thread_count=8,\n",
    "    iterations=50,\n",
    "    random_seed=42,\n",
    "    learning_rate=0.1,\n",
    "    custom_loss=['AUC', 'Accuracy', 'PRAUC']\n",
    ")\n",
    "\n",
    "cat.fit(\n",
    "   X_train, y_train,\n",
    "   eval_set=(X_test, y_test),\n",
    "   logging_level='Silent',\n",
    "   plot=True\n",
    ")"
   ]
  },
  {
   "cell_type": "markdown",
   "metadata": {},
   "source": [
    "# 2. all feaches"
   ]
  },
  {
   "cell_type": "code",
   "execution_count": 4,
   "metadata": {},
   "outputs": [],
   "source": [
    "async def get_cat_data(id_t, id_f):\n",
    "    out = await db.get_cat_data_by_list_id(id_t + id_f)\n",
    "    return out, [1] * len(id_t) + [0] * len(id_f)"
   ]
  },
  {
   "cell_type": "code",
   "execution_count": 5,
   "metadata": {},
   "outputs": [],
   "source": [
    "id_t = [48,115,170,873,2919,1364,380,8986,614,2391,3812,10810]\n",
    "\n",
    "id_f = [9007,8915,11427,385,5451,9366,5079,3816,3955,2424,3593,49,174,2949,893,120,3843,1382]\n",
    "\n",
    "x, y = await get_cat_data(id_t, id_f)\n",
    "X_train, X_test, y_train, y_test = train_test_split(x, y, test_size=0.2)"
   ]
  },
  {
   "cell_type": "code",
   "execution_count": 9,
   "metadata": {},
   "outputs": [
    {
     "data": {
      "application/vnd.jupyter.widget-view+json": {
       "model_id": "dce654712a6a49d691dfd6a6c8f6fa17",
       "version_major": 2,
       "version_minor": 0
      },
      "text/plain": [
       "MetricVisualizer(layout=Layout(align_self='stretch', height='500px'))"
      ]
     },
     "metadata": {},
     "output_type": "display_data"
    },
    {
     "data": {
      "text/plain": [
       "<catboost.core.CatBoostClassifier at 0x29a0b48ca00>"
      ]
     },
     "execution_count": 9,
     "metadata": {},
     "output_type": "execute_result"
    }
   ],
   "source": [
    "cat = CatBoostClassifier(\n",
    "        thread_count=8,\n",
    "        iterations=50,\n",
    "        random_seed=42,\n",
    "        learning_rate=0.1,\n",
    "        custom_loss=['AUC', 'Accuracy', 'PRAUC']\n",
    "    )\n",
    "\n",
    "cat.fit(\n",
    "    X_train, y_train,\n",
    "    eval_set=(X_test, y_test),\n",
    "    embedding_features=[0, 9],\n",
    "    cat_features=[1,2,3,4,5,6,7,8],\n",
    "    logging_level='Silent',\n",
    "    plot=True\n",
    ")"
   ]
  },
  {
   "cell_type": "code",
   "execution_count": null,
   "metadata": {},
   "outputs": [],
   "source": []
  }
 ],
 "metadata": {
  "kernelspec": {
   "display_name": "Python 3 (ipykernel)",
   "language": "python",
   "name": "python3"
  },
  "language_info": {
   "codemirror_mode": {
    "name": "ipython",
    "version": 3
   },
   "file_extension": ".py",
   "mimetype": "text/x-python",
   "name": "python",
   "nbconvert_exporter": "python",
   "pygments_lexer": "ipython3",
   "version": "3.10.6"
  }
 },
 "nbformat": 4,
 "nbformat_minor": 1
}
